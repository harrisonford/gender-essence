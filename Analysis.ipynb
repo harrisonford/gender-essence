{
 "cells": [
  {
   "attachments": {},
   "cell_type": "markdown",
   "metadata": {},
   "source": [
    "# Studying gender perception of literary works using LLM models\n",
    "\n",
    "Because maybe chatGPT can tell us the secret of why we perceive the literary source as male or female.\n",
    "\n",
    "## Gender perception in the source text\n",
    "\n",
    "This can be an important study in linguistics and literature.\n",
    "\n",
    "## LLM model: ChatGPT-4\n",
    "\n",
    "We connect an API to an extensive corpus of literary works and test the model in a classification task and ask for conceptual insights in it's classification approach.\n"
   ]
  },
  {
   "cell_type": "markdown",
   "metadata": {},
   "source": [
    "### Loading our corpus database table"
   ]
  },
  {
   "cell_type": "code",
   "execution_count": 1,
   "metadata": {},
   "outputs": [
    {
     "data": {
      "text/html": [
       "<div>\n",
       "<style scoped>\n",
       "    .dataframe tbody tr th:only-of-type {\n",
       "        vertical-align: middle;\n",
       "    }\n",
       "\n",
       "    .dataframe tbody tr th {\n",
       "        vertical-align: top;\n",
       "    }\n",
       "\n",
       "    .dataframe thead th {\n",
       "        text-align: right;\n",
       "    }\n",
       "</style>\n",
       "<table border=\"1\" class=\"dataframe\">\n",
       "  <thead>\n",
       "    <tr style=\"text-align: right;\">\n",
       "      <th></th>\n",
       "      <th>name</th>\n",
       "      <th>gender</th>\n",
       "      <th>title</th>\n",
       "      <th>type</th>\n",
       "      <th>filename</th>\n",
       "      <th>extension</th>\n",
       "      <th>guess-gender</th>\n",
       "      <th>guess-confidence</th>\n",
       "      <th>concept-1</th>\n",
       "      <th>concept-2</th>\n",
       "      <th>concept-3</th>\n",
       "      <th>concept-1-sentence</th>\n",
       "      <th>concept-2-sentence</th>\n",
       "      <th>concept-3-sentence</th>\n",
       "    </tr>\n",
       "  </thead>\n",
       "  <tbody>\n",
       "    <tr>\n",
       "      <th>0</th>\n",
       "      <td>isabel allende</td>\n",
       "      <td>female</td>\n",
       "      <td>dos palabras</td>\n",
       "      <td>short-story</td>\n",
       "      <td>dos_palabras</td>\n",
       "      <td>txt</td>\n",
       "      <td>None</td>\n",
       "      <td>None</td>\n",
       "      <td>None</td>\n",
       "      <td>None</td>\n",
       "      <td>None</td>\n",
       "      <td>None</td>\n",
       "      <td>None</td>\n",
       "      <td>None</td>\n",
       "    </tr>\n",
       "    <tr>\n",
       "      <th>1</th>\n",
       "      <td>cristina peri rossi</td>\n",
       "      <td>female</td>\n",
       "      <td>los amores equivocados</td>\n",
       "      <td>short-story</td>\n",
       "      <td>los_amores_equivocados</td>\n",
       "      <td>txt</td>\n",
       "      <td>None</td>\n",
       "      <td>None</td>\n",
       "      <td>None</td>\n",
       "      <td>None</td>\n",
       "      <td>None</td>\n",
       "      <td>None</td>\n",
       "      <td>None</td>\n",
       "      <td>None</td>\n",
       "    </tr>\n",
       "    <tr>\n",
       "      <th>2</th>\n",
       "      <td>armonia sommers</td>\n",
       "      <td>female</td>\n",
       "      <td>el hombre del tunel</td>\n",
       "      <td>short-story</td>\n",
       "      <td>el_hombre_del_tunel</td>\n",
       "      <td>txt</td>\n",
       "      <td>None</td>\n",
       "      <td>None</td>\n",
       "      <td>None</td>\n",
       "      <td>None</td>\n",
       "      <td>None</td>\n",
       "      <td>None</td>\n",
       "      <td>None</td>\n",
       "      <td>None</td>\n",
       "    </tr>\n",
       "  </tbody>\n",
       "</table>\n",
       "</div>"
      ],
      "text/plain": [
       "                  name  gender                   title         type  \\\n",
       "0       isabel allende  female            dos palabras  short-story   \n",
       "1  cristina peri rossi  female  los amores equivocados  short-story   \n",
       "2      armonia sommers  female     el hombre del tunel  short-story   \n",
       "\n",
       "                 filename extension guess-gender guess-confidence concept-1  \\\n",
       "0            dos_palabras       txt         None             None      None   \n",
       "1  los_amores_equivocados       txt         None             None      None   \n",
       "2     el_hombre_del_tunel       txt         None             None      None   \n",
       "\n",
       "  concept-2 concept-3 concept-1-sentence concept-2-sentence concept-3-sentence  \n",
       "0      None      None               None               None               None  \n",
       "1      None      None               None               None               None  \n",
       "2      None      None               None               None               None  "
      ]
     },
     "execution_count": 1,
     "metadata": {},
     "output_type": "execute_result"
    }
   ],
   "source": [
    "from code.googles import read_google_sheet\n",
    "\n",
    "file = 'secrets.json'\n",
    "df = read_google_sheet(file)\n",
    "df"
   ]
  },
  {
   "cell_type": "markdown",
   "metadata": {},
   "source": [
    "### Listing all available files in our database"
   ]
  },
  {
   "cell_type": "code",
   "execution_count": 2,
   "metadata": {},
   "outputs": [
    {
     "name": "stdout",
     "output_type": "stream",
     "text": [
      "names = ['dos_palabras.txt', 'el_hombre_del_tunel.txt', 'los_amores_equivocados.txt'], ids = ['1yy93Z2kPEcyB7XRhz3mOz59n0kTNeVdZ', '13Nu_jv8T21YsU25uUlZ8jhfFeYxzER1l', '1Kz297Ry44mLXSWlP6MmVIhw6QAetmkcH']\n"
     ]
    }
   ],
   "source": [
    "from code.googles import list_google_docs\n",
    "\n",
    "file = 'secrets.json'\n",
    "ids, names = list_google_docs(file)\n",
    "\n",
    "print(f\"names = {names}, ids = {ids}\")"
   ]
  },
  {
   "cell_type": "markdown",
   "metadata": {},
   "source": [
    "### Test loading a text file from google drive"
   ]
  },
  {
   "cell_type": "code",
   "execution_count": null,
   "metadata": {},
   "outputs": [],
   "source": []
  },
  {
   "cell_type": "markdown",
   "metadata": {},
   "source": [
    "### Test a prompt with one corpus in the table\n"
   ]
  }
 ],
 "metadata": {
  "kernelspec": {
   "display_name": "genderess",
   "language": "python",
   "name": "python3"
  },
  "language_info": {
   "codemirror_mode": {
    "name": "ipython",
    "version": 3
   },
   "file_extension": ".py",
   "mimetype": "text/x-python",
   "name": "python",
   "nbconvert_exporter": "python",
   "pygments_lexer": "ipython3",
   "version": "3.10.11"
  },
  "orig_nbformat": 4
 },
 "nbformat": 4,
 "nbformat_minor": 2
}
